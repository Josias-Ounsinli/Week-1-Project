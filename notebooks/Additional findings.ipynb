{
 "cells": [
  {
   "cell_type": "code",
   "execution_count": 1,
   "id": "eb2b49c3",
   "metadata": {},
   "outputs": [],
   "source": [
    "import pandas as pd"
   ]
  },
  {
   "cell_type": "code",
   "execution_count": 2,
   "id": "b49bf845",
   "metadata": {},
   "outputs": [
    {
     "data": {
      "text/plain": [
       "'/home/jds98/10 Academy/Week 1/Week-1-Project/notebooks'"
      ]
     },
     "execution_count": 2,
     "metadata": {},
     "output_type": "execute_result"
    }
   ],
   "source": [
    "pwd"
   ]
  },
  {
   "cell_type": "code",
   "execution_count": 3,
   "id": "b6347633",
   "metadata": {},
   "outputs": [
    {
     "name": "stdout",
     "output_type": "stream",
     "text": [
      "/home/jds98/10 Academy/Week 1/Week-1-Project/data\n"
     ]
    }
   ],
   "source": [
    "cd ../data/"
   ]
  },
  {
   "cell_type": "code",
   "execution_count": 4,
   "id": "e7308aa3",
   "metadata": {},
   "outputs": [],
   "source": [
    "df = pd.read_csv('Engagement metrics with cluster.csv')"
   ]
  },
  {
   "cell_type": "code",
   "execution_count": 5,
   "id": "b177817a",
   "metadata": {},
   "outputs": [
    {
     "data": {
      "text/plain": [
       "Index(['MSISDN/Number', 'sessions frequency', 'Dur. (ms)', 'Total DL (Bytes)',\n",
       "       'Total UL (Bytes)', 'Total traffic', 'cluster'],\n",
       "      dtype='object')"
      ]
     },
     "execution_count": 5,
     "metadata": {},
     "output_type": "execute_result"
    }
   ],
   "source": [
    "df.columns"
   ]
  },
  {
   "cell_type": "code",
   "execution_count": 7,
   "id": "78f3f57b",
   "metadata": {},
   "outputs": [
    {
     "data": {
      "text/plain": [
       "0    78187\n",
       "2    24588\n",
       "1     3696\n",
       "Name: cluster, dtype: int64"
      ]
     },
     "execution_count": 7,
     "metadata": {},
     "output_type": "execute_result"
    }
   ],
   "source": [
    "df['cluster'].value_counts()"
   ]
  },
  {
   "cell_type": "code",
   "execution_count": 8,
   "id": "ef086b4e",
   "metadata": {},
   "outputs": [
    {
     "data": {
      "text/plain": [
       "106471"
      ]
     },
     "execution_count": 8,
     "metadata": {},
     "output_type": "execute_result"
    }
   ],
   "source": [
    "78187+24588+3696\n"
   ]
  },
  {
   "cell_type": "code",
   "execution_count": 9,
   "id": "7d9b6eb5",
   "metadata": {},
   "outputs": [
    {
     "data": {
      "text/plain": [
       "0.7343501986456406"
      ]
     },
     "execution_count": 9,
     "metadata": {},
     "output_type": "execute_result"
    }
   ],
   "source": [
    "78187/106471"
   ]
  },
  {
   "cell_type": "code",
   "execution_count": 10,
   "id": "1c7f22c6",
   "metadata": {},
   "outputs": [
    {
     "data": {
      "text/plain": [
       "0.23093612345145625"
      ]
     },
     "execution_count": 10,
     "metadata": {},
     "output_type": "execute_result"
    }
   ],
   "source": [
    "24588/106471"
   ]
  },
  {
   "cell_type": "code",
   "execution_count": 11,
   "id": "af9b195a",
   "metadata": {},
   "outputs": [],
   "source": [
    "df2 = pd.read_csv('Engagement metrics with cluster for applications.csv')"
   ]
  },
  {
   "cell_type": "code",
   "execution_count": 12,
   "id": "e577f481",
   "metadata": {},
   "outputs": [
    {
     "data": {
      "text/plain": [
       "0    77929\n",
       "3    21561\n",
       "1     5507\n",
       "2     1474\n",
       "Name: cluster, dtype: int64"
      ]
     },
     "execution_count": 12,
     "metadata": {},
     "output_type": "execute_result"
    }
   ],
   "source": [
    "df2['cluster'].value_counts()"
   ]
  },
  {
   "cell_type": "code",
   "execution_count": 13,
   "id": "bbb803e1",
   "metadata": {},
   "outputs": [
    {
     "data": {
      "text/plain": [
       "0.7319270035972236"
      ]
     },
     "execution_count": 13,
     "metadata": {},
     "output_type": "execute_result"
    }
   ],
   "source": [
    "77929/106471\n"
   ]
  },
  {
   "cell_type": "code",
   "execution_count": 14,
   "id": "7b54837e",
   "metadata": {},
   "outputs": [
    {
     "data": {
      "text/plain": [
       "0.20250584666247148"
      ]
     },
     "execution_count": 14,
     "metadata": {},
     "output_type": "execute_result"
    }
   ],
   "source": [
    "21561/106471"
   ]
  },
  {
   "cell_type": "code",
   "execution_count": 15,
   "id": "3b227c67",
   "metadata": {},
   "outputs": [],
   "source": [
    "df3 = pd.read_csv('Experience_metrics_clusters_data.csv')"
   ]
  },
  {
   "cell_type": "code",
   "execution_count": 16,
   "id": "fb81bebc",
   "metadata": {},
   "outputs": [
    {
     "data": {
      "text/plain": [
       "0    61085\n",
       "1    39537\n",
       "2     5849\n",
       "Name: cluster, dtype: int64"
      ]
     },
     "execution_count": 16,
     "metadata": {},
     "output_type": "execute_result"
    }
   ],
   "source": [
    "df3['cluster'].value_counts()"
   ]
  },
  {
   "cell_type": "code",
   "execution_count": 17,
   "id": "4178954a",
   "metadata": {},
   "outputs": [
    {
     "data": {
      "text/plain": [
       "0.0549351466596538"
      ]
     },
     "execution_count": 17,
     "metadata": {},
     "output_type": "execute_result"
    }
   ],
   "source": [
    "5849/106471"
   ]
  },
  {
   "cell_type": "code",
   "execution_count": 18,
   "id": "01ab914d",
   "metadata": {},
   "outputs": [],
   "source": [
    "df4= pd.read_csv('Final table.csv')"
   ]
  },
  {
   "cell_type": "code",
   "execution_count": 19,
   "id": "16d7a042",
   "metadata": {},
   "outputs": [
    {
     "data": {
      "text/plain": [
       "Unsatisfied    100329\n",
       "Satisfied        6142\n",
       "Name: satisfied, dtype: int64"
      ]
     },
     "execution_count": 19,
     "metadata": {},
     "output_type": "execute_result"
    }
   ],
   "source": [
    "df4['satisfied'].value_counts()"
   ]
  },
  {
   "cell_type": "code",
   "execution_count": 20,
   "id": "fd7491b2",
   "metadata": {},
   "outputs": [
    {
     "data": {
      "text/plain": [
       "0.0576870697185149"
      ]
     },
     "execution_count": 20,
     "metadata": {},
     "output_type": "execute_result"
    }
   ],
   "source": [
    "6142/106471"
   ]
  },
  {
   "cell_type": "code",
   "execution_count": null,
   "id": "e8f6bbff",
   "metadata": {},
   "outputs": [],
   "source": []
  }
 ],
 "metadata": {
  "kernelspec": {
   "display_name": "Python 3 (ipykernel)",
   "language": "python",
   "name": "python3"
  },
  "language_info": {
   "codemirror_mode": {
    "name": "ipython",
    "version": 3
   },
   "file_extension": ".py",
   "mimetype": "text/x-python",
   "name": "python",
   "nbconvert_exporter": "python",
   "pygments_lexer": "ipython3",
   "version": "3.10.4"
  }
 },
 "nbformat": 4,
 "nbformat_minor": 5
}
