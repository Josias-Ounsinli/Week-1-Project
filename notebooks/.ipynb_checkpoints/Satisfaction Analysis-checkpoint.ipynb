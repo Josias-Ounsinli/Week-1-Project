{
 "cells": [
  {
   "cell_type": "code",
   "execution_count": 1,
   "id": "e912acb8",
   "metadata": {},
   "outputs": [
    {
     "data": {
      "application/javascript": [
       "IPython.OutputArea.auto_scroll_threshold = 9999\n"
      ],
      "text/plain": [
       "<IPython.core.display.Javascript object>"
      ]
     },
     "metadata": {},
     "output_type": "display_data"
    }
   ],
   "source": [
    "%%javascript\n",
    "IPython.OutputArea.auto_scroll_threshold = 9999"
   ]
  },
  {
   "cell_type": "code",
   "execution_count": 2,
   "id": "ae2eac0d",
   "metadata": {},
   "outputs": [],
   "source": [
    "import pandas as pd\n",
    "import warnings\n",
    "import matplotlib.pyplot as plt\n",
    "import seaborn as sns\n",
    "from IPython.display import Image\n",
    "import numpy as np"
   ]
  },
  {
   "cell_type": "code",
   "execution_count": 3,
   "id": "ac3cdbc6",
   "metadata": {},
   "outputs": [],
   "source": [
    "warnings.filterwarnings('ignore')\n",
    "pd.set_option('display.max_column', 55)"
   ]
  },
  {
   "cell_type": "code",
   "execution_count": 4,
   "id": "b8119404",
   "metadata": {},
   "outputs": [
    {
     "name": "stdout",
     "output_type": "stream",
     "text": [
      "/home/jds98/10 Academy/Week 1/Week-1-Project/scripts\n"
     ]
    }
   ],
   "source": [
    "cd ../scripts/"
   ]
  },
  {
   "cell_type": "code",
   "execution_count": 6,
   "id": "1a24e4b6",
   "metadata": {},
   "outputs": [],
   "source": [
    "import dataset_infos\n",
    "import clean_transform as transf\n",
    "import eda_functions as eda\n",
    "import prerequisites as pre"
   ]
  },
  {
   "cell_type": "code",
   "execution_count": 7,
   "id": "b3f75460",
   "metadata": {},
   "outputs": [
    {
     "name": "stdout",
     "output_type": "stream",
     "text": [
      "/home/jds98/10 Academy/Week 1/Week-1-Project/notebooks/Figures\n"
     ]
    }
   ],
   "source": [
    "cd ../notebooks/Figures/"
   ]
  },
  {
   "cell_type": "markdown",
   "id": "ecd0ef93",
   "metadata": {},
   "source": [
    "## Load the data and clean the data¶"
   ]
  },
  {
   "cell_type": "code",
   "execution_count": 8,
   "id": "b278170c",
   "metadata": {},
   "outputs": [],
   "source": [
    "df = pre.load_data()"
   ]
  },
  {
   "cell_type": "code",
   "execution_count": 9,
   "id": "5aa12898",
   "metadata": {},
   "outputs": [],
   "source": [
    "df = pre.clean_data(df)"
   ]
  },
  {
   "cell_type": "code",
   "execution_count": 10,
   "id": "10443a48",
   "metadata": {},
   "outputs": [
    {
     "name": "stdout",
     "output_type": "stream",
     "text": [
      " There are 149010 rows and 45 columns\n",
      "The dataset contains 0.0 % missing values.\n"
     ]
    }
   ],
   "source": [
    "pre.data_infos(df)"
   ]
  },
  {
   "cell_type": "code",
   "execution_count": null,
   "id": "39621623",
   "metadata": {},
   "outputs": [],
   "source": []
  },
  {
   "cell_type": "code",
   "execution_count": null,
   "id": "420c1af4",
   "metadata": {},
   "outputs": [],
   "source": []
  },
  {
   "cell_type": "code",
   "execution_count": null,
   "id": "b8c6a976",
   "metadata": {},
   "outputs": [],
   "source": []
  },
  {
   "cell_type": "code",
   "execution_count": null,
   "id": "9504d505",
   "metadata": {},
   "outputs": [],
   "source": []
  },
  {
   "cell_type": "code",
   "execution_count": null,
   "id": "95b60105",
   "metadata": {},
   "outputs": [],
   "source": []
  },
  {
   "cell_type": "code",
   "execution_count": null,
   "id": "30fdcf08",
   "metadata": {},
   "outputs": [],
   "source": []
  }
 ],
 "metadata": {
  "kernelspec": {
   "display_name": "Python 3 (ipykernel)",
   "language": "python",
   "name": "python3"
  },
  "language_info": {
   "codemirror_mode": {
    "name": "ipython",
    "version": 3
   },
   "file_extension": ".py",
   "mimetype": "text/x-python",
   "name": "python",
   "nbconvert_exporter": "python",
   "pygments_lexer": "ipython3",
   "version": "3.9.7"
  }
 },
 "nbformat": 4,
 "nbformat_minor": 5
}
